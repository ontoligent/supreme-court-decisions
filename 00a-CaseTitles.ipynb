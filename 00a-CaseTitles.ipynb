{
 "cells": [
  {
   "cell_type": "markdown",
   "metadata": {},
   "source": [
    "# Set Up"
   ]
  },
  {
   "cell_type": "markdown",
   "metadata": {},
   "source": [
    "## Imports"
   ]
  },
  {
   "cell_type": "code",
   "execution_count": 1,
   "metadata": {},
   "outputs": [],
   "source": [
    "import pandas as pd\n",
    "from glob import glob\n",
    "import lxml.html as HTML\n",
    "from tqdm import notebook as tqdbnb\n",
    "import re\n",
    "from lib.helper import Db"
   ]
  },
  {
   "cell_type": "markdown",
   "metadata": {},
   "source": [
    "## Cconfig"
   ]
  },
  {
   "cell_type": "code",
   "execution_count": 2,
   "metadata": {},
   "outputs": [],
   "source": [
    "html_file_glob = f\"src/dump/out/*.html\"\n",
    "csv_file = f'src/case-titles.csv'"
   ]
  },
  {
   "cell_type": "markdown",
   "metadata": {},
   "source": [
    "# Grab titles from Justia dump\n",
    "\n",
    "These files were previously scraped from https://supreme.justia.com/cases/federal/us/volume/"
   ]
  },
  {
   "cell_type": "code",
   "execution_count": 3,
   "metadata": {},
   "outputs": [],
   "source": [
    "def extract_titles(csv_file, html_file_glob):\n",
    "    files = glob(html_file_glob)\n",
    "    fpat = re.compile(r\"vol-(.+)-case-(.+).html\")\n",
    "    title_xpath = \"//head/title/text()\"\n",
    "    data = []\n",
    "    for file in tqdbnb.tqdm(sorted(files)):\n",
    "        m = fpat.search(file)\n",
    "        vol_num = m[1]\n",
    "        case_num = m[2]\n",
    "        with open(file, 'r') as infile:   \n",
    "            root = HTML.parse(infile)\n",
    "            title = root.xpath(title_xpath)[0].split('::')[0].strip()\n",
    "            data.append((vol_num, case_num, title))    \n",
    "    df = pd.DataFrame(data, columns=['vol_num','case_num','case_title'])\n",
    "    df.to_csv(csv_file, sep='|', index=False)"
   ]
  },
  {
   "cell_type": "code",
   "execution_count": 4,
   "metadata": {},
   "outputs": [],
   "source": [
    "try:\n",
    "    df = pd.read_csv(csv_file, sep='|')\n",
    "except FileNotFoundError as e:\n",
    "    extract_titles(csv_file, html_file_glob)\n",
    "    df = pd.read_csv(csv_file, sep='|')"
   ]
  },
  {
   "cell_type": "code",
   "execution_count": 5,
   "metadata": {},
   "outputs": [
    {
     "name": "stdout",
     "output_type": "stream",
     "text": [
      "<class 'pandas.core.frame.DataFrame'>\n",
      "RangeIndex: 31855 entries, 0 to 31854\n",
      "Data columns (total 3 columns):\n",
      " #   Column      Non-Null Count  Dtype \n",
      "---  ------      --------------  ----- \n",
      " 0   vol_num     31855 non-null  int64 \n",
      " 1   case_num    31855 non-null  object\n",
      " 2   case_title  31855 non-null  object\n",
      "dtypes: int64(1), object(2)\n",
      "memory usage: 746.7+ KB\n"
     ]
    }
   ],
   "source": [
    "df.info()"
   ]
  },
  {
   "cell_type": "markdown",
   "metadata": {},
   "source": [
    "## Inspect cases with non-numbers\n",
    "\n",
    "These appear to be docket numbers.\n"
   ]
  },
  {
   "cell_type": "code",
   "execution_count": 6,
   "metadata": {},
   "outputs": [
    {
     "data": {
      "text/html": [
       "<div>\n",
       "<style scoped>\n",
       "    .dataframe tbody tr th:only-of-type {\n",
       "        vertical-align: middle;\n",
       "    }\n",
       "\n",
       "    .dataframe tbody tr th {\n",
       "        vertical-align: top;\n",
       "    }\n",
       "\n",
       "    .dataframe thead th {\n",
       "        text-align: right;\n",
       "    }\n",
       "</style>\n",
       "<table border=\"1\" class=\"dataframe\">\n",
       "  <thead>\n",
       "    <tr style=\"text-align: right;\">\n",
       "      <th></th>\n",
       "      <th>vol_num</th>\n",
       "      <th>case_num</th>\n",
       "      <th>case_title</th>\n",
       "    </tr>\n",
       "  </thead>\n",
       "  <tbody>\n",
       "    <tr>\n",
       "      <th>31356</th>\n",
       "      <td>574</td>\n",
       "      <td>126orig</td>\n",
       "      <td>Kansas v. Nebraska</td>\n",
       "    </tr>\n",
       "    <tr>\n",
       "      <th>31378</th>\n",
       "      <td>574</td>\n",
       "      <td>5orig</td>\n",
       "      <td>United States v. California</td>\n",
       "    </tr>\n",
       "    <tr>\n",
       "      <th>31629</th>\n",
       "      <td>585</td>\n",
       "      <td>141-orig</td>\n",
       "      <td>Texas v. New Mexico and Colorado</td>\n",
       "    </tr>\n",
       "    <tr>\n",
       "      <th>31630</th>\n",
       "      <td>585</td>\n",
       "      <td>142-orig</td>\n",
       "      <td>Florida v. Georgia</td>\n",
       "    </tr>\n",
       "    <tr>\n",
       "      <th>31751</th>\n",
       "      <td>589</td>\n",
       "      <td>19a1016</td>\n",
       "      <td>Republican National Committee v. Democratic Na...</td>\n",
       "    </tr>\n",
       "    <tr>\n",
       "      <th>31813</th>\n",
       "      <td>592</td>\n",
       "      <td>20a87</td>\n",
       "      <td>Roman Catholic Diocese of Brooklyn v. Cuomo</td>\n",
       "    </tr>\n",
       "  </tbody>\n",
       "</table>\n",
       "</div>"
      ],
      "text/plain": [
       "       vol_num  case_num                                         case_title\n",
       "31356      574   126orig                                 Kansas v. Nebraska\n",
       "31378      574     5orig                        United States v. California\n",
       "31629      585  141-orig                   Texas v. New Mexico and Colorado\n",
       "31630      585  142-orig                                 Florida v. Georgia\n",
       "31751      589   19a1016  Republican National Committee v. Democratic Na...\n",
       "31813      592     20a87        Roman Catholic Diocese of Brooklyn v. Cuomo"
      ]
     },
     "execution_count": 6,
     "metadata": {},
     "output_type": "execute_result"
    }
   ],
   "source": [
    "df[df.case_num.str.contains(r'[a-zA-Z]')]"
   ]
  },
  {
   "cell_type": "code",
   "execution_count": 7,
   "metadata": {},
   "outputs": [
    {
     "data": {
      "text/html": [
       "<div>\n",
       "<style scoped>\n",
       "    .dataframe tbody tr th:only-of-type {\n",
       "        vertical-align: middle;\n",
       "    }\n",
       "\n",
       "    .dataframe tbody tr th {\n",
       "        vertical-align: top;\n",
       "    }\n",
       "\n",
       "    .dataframe thead th {\n",
       "        text-align: right;\n",
       "    }\n",
       "</style>\n",
       "<table border=\"1\" class=\"dataframe\">\n",
       "  <thead>\n",
       "    <tr style=\"text-align: right;\">\n",
       "      <th></th>\n",
       "      <th>vol_num</th>\n",
       "      <th>case_num</th>\n",
       "      <th>case_title</th>\n",
       "    </tr>\n",
       "  </thead>\n",
       "  <tbody>\n",
       "    <tr>\n",
       "      <th>30491</th>\n",
       "      <td>540</td>\n",
       "      <td>02-473</td>\n",
       "      <td>United States v. Banks</td>\n",
       "    </tr>\n",
       "    <tr>\n",
       "      <th>30492</th>\n",
       "      <td>540</td>\n",
       "      <td>02-628</td>\n",
       "      <td>Frew v. Hawkins</td>\n",
       "    </tr>\n",
       "    <tr>\n",
       "      <th>30493</th>\n",
       "      <td>540</td>\n",
       "      <td>02-658</td>\n",
       "      <td>Alaska Dept. of Environmental Conservation v. EPA</td>\n",
       "    </tr>\n",
       "    <tr>\n",
       "      <th>30494</th>\n",
       "      <td>540</td>\n",
       "      <td>02-682</td>\n",
       "      <td>Verizon Communications Inc. v. Law Offices of ...</td>\n",
       "    </tr>\n",
       "    <tr>\n",
       "      <th>31134</th>\n",
       "      <td>565</td>\n",
       "      <td>11-38</td>\n",
       "      <td>Wetzel v. Lambert</td>\n",
       "    </tr>\n",
       "    <tr>\n",
       "      <th>...</th>\n",
       "      <td>...</td>\n",
       "      <td>...</td>\n",
       "      <td>...</td>\n",
       "    </tr>\n",
       "    <tr>\n",
       "      <th>31850</th>\n",
       "      <td>594</td>\n",
       "      <td>20-391</td>\n",
       "      <td>Lombardo v. St. Louis</td>\n",
       "    </tr>\n",
       "    <tr>\n",
       "      <th>31851</th>\n",
       "      <td>594</td>\n",
       "      <td>20-440</td>\n",
       "      <td>Minerva Surgical, Inc. v. Hologic, Inc.</td>\n",
       "    </tr>\n",
       "    <tr>\n",
       "      <th>31852</th>\n",
       "      <td>594</td>\n",
       "      <td>20-472</td>\n",
       "      <td>HollyFrontier Cheyenne Refining, LLC v. Renewa...</td>\n",
       "    </tr>\n",
       "    <tr>\n",
       "      <th>31853</th>\n",
       "      <td>594</td>\n",
       "      <td>20-512</td>\n",
       "      <td>National Collegiate Athletic Association. v. A...</td>\n",
       "    </tr>\n",
       "    <tr>\n",
       "      <th>31854</th>\n",
       "      <td>594</td>\n",
       "      <td>20-543</td>\n",
       "      <td>Yellen v. Confederated Tribes of Chehalis Rese...</td>\n",
       "    </tr>\n",
       "  </tbody>\n",
       "</table>\n",
       "<p>592 rows × 3 columns</p>\n",
       "</div>"
      ],
      "text/plain": [
       "       vol_num case_num                                         case_title\n",
       "30491      540   02-473                             United States v. Banks\n",
       "30492      540   02-628                                    Frew v. Hawkins\n",
       "30493      540   02-658  Alaska Dept. of Environmental Conservation v. EPA\n",
       "30494      540   02-682  Verizon Communications Inc. v. Law Offices of ...\n",
       "31134      565    11-38                                  Wetzel v. Lambert\n",
       "...        ...      ...                                                ...\n",
       "31850      594   20-391                              Lombardo v. St. Louis\n",
       "31851      594   20-440            Minerva Surgical, Inc. v. Hologic, Inc.\n",
       "31852      594   20-472  HollyFrontier Cheyenne Refining, LLC v. Renewa...\n",
       "31853      594   20-512  National Collegiate Athletic Association. v. A...\n",
       "31854      594   20-543  Yellen v. Confederated Tribes of Chehalis Rese...\n",
       "\n",
       "[592 rows x 3 columns]"
      ]
     },
     "execution_count": 7,
     "metadata": {},
     "output_type": "execute_result"
    }
   ],
   "source": [
    "df[df.case_num.str.contains(r'\\d-\\d')]"
   ]
  },
  {
   "cell_type": "markdown",
   "metadata": {},
   "source": [
    "## Keep only cases with numbers"
   ]
  },
  {
   "cell_type": "code",
   "execution_count": 8,
   "metadata": {},
   "outputs": [],
   "source": [
    "df2 = df[df.case_num.str.contains('^\\d+$', regex=True)].copy()"
   ]
  },
  {
   "cell_type": "markdown",
   "metadata": {},
   "source": [
    "## Cast numbers to integers"
   ]
  },
  {
   "cell_type": "code",
   "execution_count": 9,
   "metadata": {},
   "outputs": [],
   "source": [
    "df2.case_num = df2.case_num.astype('int')"
   ]
  },
  {
   "cell_type": "code",
   "execution_count": 10,
   "metadata": {},
   "outputs": [],
   "source": [
    "df2 = df2.set_index(['vol_num','case_num']).sort_index()"
   ]
  },
  {
   "cell_type": "code",
   "execution_count": 11,
   "metadata": {},
   "outputs": [
    {
     "data": {
      "text/plain": [
       "(31257, 1)"
      ]
     },
     "execution_count": 11,
     "metadata": {},
     "output_type": "execute_result"
    }
   ],
   "source": [
    "df2.shape"
   ]
  },
  {
   "cell_type": "code",
   "execution_count": 12,
   "metadata": {},
   "outputs": [
    {
     "data": {
      "text/html": [
       "<div>\n",
       "<style scoped>\n",
       "    .dataframe tbody tr th:only-of-type {\n",
       "        vertical-align: middle;\n",
       "    }\n",
       "\n",
       "    .dataframe tbody tr th {\n",
       "        vertical-align: top;\n",
       "    }\n",
       "\n",
       "    .dataframe thead th {\n",
       "        text-align: right;\n",
       "    }\n",
       "</style>\n",
       "<table border=\"1\" class=\"dataframe\">\n",
       "  <thead>\n",
       "    <tr style=\"text-align: right;\">\n",
       "      <th></th>\n",
       "      <th></th>\n",
       "      <th>case_title</th>\n",
       "    </tr>\n",
       "    <tr>\n",
       "      <th>vol_num</th>\n",
       "      <th>case_num</th>\n",
       "      <th></th>\n",
       "    </tr>\n",
       "  </thead>\n",
       "  <tbody>\n",
       "    <tr>\n",
       "      <th rowspan=\"5\" valign=\"top\">1</th>\n",
       "      <th>1</th>\n",
       "      <td>HYAM'S LESSEE v. EDWARDS</td>\n",
       "    </tr>\n",
       "    <tr>\n",
       "      <th>2</th>\n",
       "      <td>BETHEL v. LLOYD</td>\n",
       "    </tr>\n",
       "    <tr>\n",
       "      <th>3</th>\n",
       "      <td>STEVENSON v. PEMBERTON</td>\n",
       "    </tr>\n",
       "    <tr>\n",
       "      <th>4</th>\n",
       "      <td>ASHETON v. ASHETON</td>\n",
       "    </tr>\n",
       "    <tr>\n",
       "      <th>5</th>\n",
       "      <td>KING v. LUKENS</td>\n",
       "    </tr>\n",
       "  </tbody>\n",
       "</table>\n",
       "</div>"
      ],
      "text/plain": [
       "                                case_title\n",
       "vol_num case_num                          \n",
       "1       1         HYAM'S LESSEE v. EDWARDS\n",
       "        2                  BETHEL v. LLOYD\n",
       "        3           STEVENSON v. PEMBERTON\n",
       "        4               ASHETON v. ASHETON\n",
       "        5                   KING v. LUKENS"
      ]
     },
     "execution_count": 12,
     "metadata": {},
     "output_type": "execute_result"
    }
   ],
   "source": [
    "df2.head()"
   ]
  },
  {
   "cell_type": "markdown",
   "metadata": {},
   "source": [
    "# Add titles to CASE"
   ]
  },
  {
   "cell_type": "code",
   "execution_count": 13,
   "metadata": {},
   "outputs": [],
   "source": [
    "db = Db('db/ussc.db')"
   ]
  },
  {
   "cell_type": "code",
   "execution_count": 14,
   "metadata": {},
   "outputs": [
    {
     "data": {
      "text/plain": [
       "'db/ussc.db'"
      ]
     },
     "execution_count": 14,
     "metadata": {},
     "output_type": "execute_result"
    }
   ],
   "source": [
    "db.db_file"
   ]
  },
  {
   "cell_type": "code",
   "execution_count": 15,
   "metadata": {},
   "outputs": [
    {
     "data": {
      "text/plain": [
       "['AUTHOR',\n",
       " 'BOW',\n",
       " 'CASE',\n",
       " 'CORPUS',\n",
       " 'CORPUS_COMPRESSED',\n",
       " 'D2V',\n",
       " 'D2VP',\n",
       " 'PHI',\n",
       " 'PHI_NMF',\n",
       " 'THETA',\n",
       " 'THETA_NMF',\n",
       " 'TOPICS',\n",
       " 'TOPICS_NMF',\n",
       " 'VOCAB',\n",
       " 'YEAR']"
      ]
     },
     "execution_count": 15,
     "metadata": {},
     "output_type": "execute_result"
    }
   ],
   "source": [
    "db.list_tables_in_db()"
   ]
  },
  {
   "cell_type": "code",
   "execution_count": 16,
   "metadata": {},
   "outputs": [],
   "source": [
    "db.import_table('CASE', ['vol_num','case_num'])"
   ]
  },
  {
   "cell_type": "code",
   "execution_count": 17,
   "metadata": {},
   "outputs": [
    {
     "data": {
      "text/html": [
       "<div>\n",
       "<style scoped>\n",
       "    .dataframe tbody tr th:only-of-type {\n",
       "        vertical-align: middle;\n",
       "    }\n",
       "\n",
       "    .dataframe tbody tr th {\n",
       "        vertical-align: top;\n",
       "    }\n",
       "\n",
       "    .dataframe thead th {\n",
       "        text-align: right;\n",
       "    }\n",
       "</style>\n",
       "<table border=\"1\" class=\"dataframe\">\n",
       "  <thead>\n",
       "    <tr style=\"text-align: right;\">\n",
       "      <th></th>\n",
       "      <th></th>\n",
       "      <th>year</th>\n",
       "      <th>full_date</th>\n",
       "      <th>justia_url</th>\n",
       "      <th>opinion_count</th>\n",
       "      <th>concur</th>\n",
       "      <th>dissent</th>\n",
       "      <th>opinion</th>\n",
       "      <th>doc_len_sum</th>\n",
       "      <th>has_dissent</th>\n",
       "    </tr>\n",
       "    <tr>\n",
       "      <th>vol_num</th>\n",
       "      <th>case_num</th>\n",
       "      <th></th>\n",
       "      <th></th>\n",
       "      <th></th>\n",
       "      <th></th>\n",
       "      <th></th>\n",
       "      <th></th>\n",
       "      <th></th>\n",
       "      <th></th>\n",
       "      <th></th>\n",
       "    </tr>\n",
       "  </thead>\n",
       "  <tbody>\n",
       "    <tr>\n",
       "      <th rowspan=\"5\" valign=\"top\">3</th>\n",
       "      <th>1</th>\n",
       "      <td>1794</td>\n",
       "      <td>February 7, 1794</td>\n",
       "      <td>https://supreme.justia.com/cases/federal/us/3/1/</td>\n",
       "      <td>1</td>\n",
       "      <td>0</td>\n",
       "      <td>0</td>\n",
       "      <td>1</td>\n",
       "      <td>5712</td>\n",
       "      <td>0</td>\n",
       "    </tr>\n",
       "    <tr>\n",
       "      <th>6</th>\n",
       "      <td>1794</td>\n",
       "      <td>February 18, 1794</td>\n",
       "      <td>https://supreme.justia.com/cases/federal/us/3/6/</td>\n",
       "      <td>1</td>\n",
       "      <td>0</td>\n",
       "      <td>0</td>\n",
       "      <td>1</td>\n",
       "      <td>2028</td>\n",
       "      <td>0</td>\n",
       "    </tr>\n",
       "    <tr>\n",
       "      <th>17</th>\n",
       "      <td>1795</td>\n",
       "      <td>February 20, 1795</td>\n",
       "      <td>https://supreme.justia.com/cases/federal/us/3/17/</td>\n",
       "      <td>1</td>\n",
       "      <td>0</td>\n",
       "      <td>0</td>\n",
       "      <td>1</td>\n",
       "      <td>2035</td>\n",
       "      <td>0</td>\n",
       "    </tr>\n",
       "    <tr>\n",
       "      <th>121</th>\n",
       "      <td>1795</td>\n",
       "      <td>AUGUST 1795</td>\n",
       "      <td>https://supreme.justia.com/cases/federal/us/3/...</td>\n",
       "      <td>1</td>\n",
       "      <td>0</td>\n",
       "      <td>0</td>\n",
       "      <td>1</td>\n",
       "      <td>8452</td>\n",
       "      <td>0</td>\n",
       "    </tr>\n",
       "    <tr>\n",
       "      <th>171</th>\n",
       "      <td>1796</td>\n",
       "      <td>March 8, 1796</td>\n",
       "      <td>https://supreme.justia.com/cases/federal/us/3/...</td>\n",
       "      <td>5</td>\n",
       "      <td>3</td>\n",
       "      <td>1</td>\n",
       "      <td>1</td>\n",
       "      <td>30900</td>\n",
       "      <td>1</td>\n",
       "    </tr>\n",
       "    <tr>\n",
       "      <th>...</th>\n",
       "      <th>...</th>\n",
       "      <td>...</td>\n",
       "      <td>...</td>\n",
       "      <td>...</td>\n",
       "      <td>...</td>\n",
       "      <td>...</td>\n",
       "      <td>...</td>\n",
       "      <td>...</td>\n",
       "      <td>...</td>\n",
       "      <td>...</td>\n",
       "    </tr>\n",
       "    <tr>\n",
       "      <th rowspan=\"5\" valign=\"top\">554</th>\n",
       "      <th>407</th>\n",
       "      <td>2008</td>\n",
       "      <td>June 25, 2008</td>\n",
       "      <td>https://supreme.justia.com/cases/federal/us/55...</td>\n",
       "      <td>2</td>\n",
       "      <td>0</td>\n",
       "      <td>1</td>\n",
       "      <td>1</td>\n",
       "      <td>110777</td>\n",
       "      <td>1</td>\n",
       "    </tr>\n",
       "    <tr>\n",
       "      <th>471</th>\n",
       "      <td>2008</td>\n",
       "      <td>June 26, 2008</td>\n",
       "      <td>https://supreme.justia.com/cases/federal/us/55...</td>\n",
       "      <td>5</td>\n",
       "      <td>3</td>\n",
       "      <td>1</td>\n",
       "      <td>1</td>\n",
       "      <td>81688</td>\n",
       "      <td>1</td>\n",
       "    </tr>\n",
       "    <tr>\n",
       "      <th>527</th>\n",
       "      <td>2008</td>\n",
       "      <td>June 26, 2008</td>\n",
       "      <td>https://supreme.justia.com/cases/federal/us/55...</td>\n",
       "      <td>3</td>\n",
       "      <td>1</td>\n",
       "      <td>1</td>\n",
       "      <td>1</td>\n",
       "      <td>72060</td>\n",
       "      <td>1</td>\n",
       "    </tr>\n",
       "    <tr>\n",
       "      <th>570</th>\n",
       "      <td>2008</td>\n",
       "      <td>June 26, 2008</td>\n",
       "      <td>https://supreme.justia.com/cases/federal/us/55...</td>\n",
       "      <td>3</td>\n",
       "      <td>0</td>\n",
       "      <td>2</td>\n",
       "      <td>1</td>\n",
       "      <td>258289</td>\n",
       "      <td>1</td>\n",
       "    </tr>\n",
       "    <tr>\n",
       "      <th>724</th>\n",
       "      <td>2008</td>\n",
       "      <td>June 26, 2008</td>\n",
       "      <td>https://supreme.justia.com/cases/federal/us/55...</td>\n",
       "      <td>3</td>\n",
       "      <td>2</td>\n",
       "      <td>0</td>\n",
       "      <td>1</td>\n",
       "      <td>57997</td>\n",
       "      <td>0</td>\n",
       "    </tr>\n",
       "  </tbody>\n",
       "</table>\n",
       "<p>22115 rows × 9 columns</p>\n",
       "</div>"
      ],
      "text/plain": [
       "                  year          full_date  \\\n",
       "vol_num case_num                            \n",
       "3       1         1794   February 7, 1794   \n",
       "        6         1794  February 18, 1794   \n",
       "        17        1795  February 20, 1795   \n",
       "        121       1795        AUGUST 1795   \n",
       "        171       1796      March 8, 1796   \n",
       "...                ...                ...   \n",
       "554     407       2008      June 25, 2008   \n",
       "        471       2008      June 26, 2008   \n",
       "        527       2008      June 26, 2008   \n",
       "        570       2008      June 26, 2008   \n",
       "        724       2008      June 26, 2008   \n",
       "\n",
       "                                                         justia_url  \\\n",
       "vol_num case_num                                                      \n",
       "3       1          https://supreme.justia.com/cases/federal/us/3/1/   \n",
       "        6          https://supreme.justia.com/cases/federal/us/3/6/   \n",
       "        17        https://supreme.justia.com/cases/federal/us/3/17/   \n",
       "        121       https://supreme.justia.com/cases/federal/us/3/...   \n",
       "        171       https://supreme.justia.com/cases/federal/us/3/...   \n",
       "...                                                             ...   \n",
       "554     407       https://supreme.justia.com/cases/federal/us/55...   \n",
       "        471       https://supreme.justia.com/cases/federal/us/55...   \n",
       "        527       https://supreme.justia.com/cases/federal/us/55...   \n",
       "        570       https://supreme.justia.com/cases/federal/us/55...   \n",
       "        724       https://supreme.justia.com/cases/federal/us/55...   \n",
       "\n",
       "                  opinion_count  concur  dissent  opinion  doc_len_sum  \\\n",
       "vol_num case_num                                                         \n",
       "3       1                     1       0        0        1         5712   \n",
       "        6                     1       0        0        1         2028   \n",
       "        17                    1       0        0        1         2035   \n",
       "        121                   1       0        0        1         8452   \n",
       "        171                   5       3        1        1        30900   \n",
       "...                         ...     ...      ...      ...          ...   \n",
       "554     407                   2       0        1        1       110777   \n",
       "        471                   5       3        1        1        81688   \n",
       "        527                   3       1        1        1        72060   \n",
       "        570                   3       0        2        1       258289   \n",
       "        724                   3       2        0        1        57997   \n",
       "\n",
       "                  has_dissent  \n",
       "vol_num case_num               \n",
       "3       1                   0  \n",
       "        6                   0  \n",
       "        17                  0  \n",
       "        121                 0  \n",
       "        171                 1  \n",
       "...                       ...  \n",
       "554     407                 1  \n",
       "        471                 1  \n",
       "        527                 1  \n",
       "        570                 1  \n",
       "        724                 0  \n",
       "\n",
       "[22115 rows x 9 columns]"
      ]
     },
     "execution_count": 17,
     "metadata": {},
     "output_type": "execute_result"
    }
   ],
   "source": [
    "db.CASE"
   ]
  },
  {
   "cell_type": "code",
   "execution_count": 18,
   "metadata": {},
   "outputs": [],
   "source": [
    "try:\n",
    "    db.CASE = db.CASE.join(df2.case_title, how='left')\n",
    "except ValueError as e:\n",
    "    print(\"CASE table alread has titles.\")"
   ]
  },
  {
   "cell_type": "code",
   "execution_count": 19,
   "metadata": {},
   "outputs": [
    {
     "data": {
      "text/html": [
       "<div>\n",
       "<style scoped>\n",
       "    .dataframe tbody tr th:only-of-type {\n",
       "        vertical-align: middle;\n",
       "    }\n",
       "\n",
       "    .dataframe tbody tr th {\n",
       "        vertical-align: top;\n",
       "    }\n",
       "\n",
       "    .dataframe thead th {\n",
       "        text-align: right;\n",
       "    }\n",
       "</style>\n",
       "<table border=\"1\" class=\"dataframe\">\n",
       "  <thead>\n",
       "    <tr style=\"text-align: right;\">\n",
       "      <th></th>\n",
       "      <th></th>\n",
       "      <th>year</th>\n",
       "      <th>full_date</th>\n",
       "      <th>justia_url</th>\n",
       "      <th>opinion_count</th>\n",
       "      <th>concur</th>\n",
       "      <th>dissent</th>\n",
       "      <th>opinion</th>\n",
       "      <th>doc_len_sum</th>\n",
       "      <th>has_dissent</th>\n",
       "      <th>case_title</th>\n",
       "    </tr>\n",
       "    <tr>\n",
       "      <th>vol_num</th>\n",
       "      <th>case_num</th>\n",
       "      <th></th>\n",
       "      <th></th>\n",
       "      <th></th>\n",
       "      <th></th>\n",
       "      <th></th>\n",
       "      <th></th>\n",
       "      <th></th>\n",
       "      <th></th>\n",
       "      <th></th>\n",
       "      <th></th>\n",
       "    </tr>\n",
       "  </thead>\n",
       "  <tbody>\n",
       "    <tr>\n",
       "      <th rowspan=\"5\" valign=\"top\">3</th>\n",
       "      <th>1</th>\n",
       "      <td>1794</td>\n",
       "      <td>February 7, 1794</td>\n",
       "      <td>https://supreme.justia.com/cases/federal/us/3/1/</td>\n",
       "      <td>1</td>\n",
       "      <td>0</td>\n",
       "      <td>0</td>\n",
       "      <td>1</td>\n",
       "      <td>5712</td>\n",
       "      <td>0</td>\n",
       "      <td>Georgia v. Brailsford, Powell &amp; Hopton</td>\n",
       "    </tr>\n",
       "    <tr>\n",
       "      <th>6</th>\n",
       "      <td>1794</td>\n",
       "      <td>February 18, 1794</td>\n",
       "      <td>https://supreme.justia.com/cases/federal/us/3/6/</td>\n",
       "      <td>1</td>\n",
       "      <td>0</td>\n",
       "      <td>0</td>\n",
       "      <td>1</td>\n",
       "      <td>2028</td>\n",
       "      <td>0</td>\n",
       "      <td>Glass v. The Betsey</td>\n",
       "    </tr>\n",
       "    <tr>\n",
       "      <th>17</th>\n",
       "      <td>1795</td>\n",
       "      <td>February 20, 1795</td>\n",
       "      <td>https://supreme.justia.com/cases/federal/us/3/17/</td>\n",
       "      <td>1</td>\n",
       "      <td>0</td>\n",
       "      <td>0</td>\n",
       "      <td>1</td>\n",
       "      <td>2035</td>\n",
       "      <td>0</td>\n",
       "      <td>United States v. Hamilton</td>\n",
       "    </tr>\n",
       "    <tr>\n",
       "      <th>121</th>\n",
       "      <td>1795</td>\n",
       "      <td>AUGUST 1795</td>\n",
       "      <td>https://supreme.justia.com/cases/federal/us/3/...</td>\n",
       "      <td>1</td>\n",
       "      <td>0</td>\n",
       "      <td>0</td>\n",
       "      <td>1</td>\n",
       "      <td>8452</td>\n",
       "      <td>0</td>\n",
       "      <td>United States v. Peters</td>\n",
       "    </tr>\n",
       "    <tr>\n",
       "      <th>171</th>\n",
       "      <td>1796</td>\n",
       "      <td>March 8, 1796</td>\n",
       "      <td>https://supreme.justia.com/cases/federal/us/3/...</td>\n",
       "      <td>5</td>\n",
       "      <td>3</td>\n",
       "      <td>1</td>\n",
       "      <td>1</td>\n",
       "      <td>30900</td>\n",
       "      <td>1</td>\n",
       "      <td>Hylton v. United States</td>\n",
       "    </tr>\n",
       "    <tr>\n",
       "      <th>...</th>\n",
       "      <th>...</th>\n",
       "      <td>...</td>\n",
       "      <td>...</td>\n",
       "      <td>...</td>\n",
       "      <td>...</td>\n",
       "      <td>...</td>\n",
       "      <td>...</td>\n",
       "      <td>...</td>\n",
       "      <td>...</td>\n",
       "      <td>...</td>\n",
       "      <td>...</td>\n",
       "    </tr>\n",
       "    <tr>\n",
       "      <th rowspan=\"5\" valign=\"top\">554</th>\n",
       "      <th>407</th>\n",
       "      <td>2008</td>\n",
       "      <td>June 25, 2008</td>\n",
       "      <td>https://supreme.justia.com/cases/federal/us/55...</td>\n",
       "      <td>2</td>\n",
       "      <td>0</td>\n",
       "      <td>1</td>\n",
       "      <td>1</td>\n",
       "      <td>110777</td>\n",
       "      <td>1</td>\n",
       "      <td>Kennedy v. Louisiana</td>\n",
       "    </tr>\n",
       "    <tr>\n",
       "      <th>471</th>\n",
       "      <td>2008</td>\n",
       "      <td>June 26, 2008</td>\n",
       "      <td>https://supreme.justia.com/cases/federal/us/55...</td>\n",
       "      <td>5</td>\n",
       "      <td>3</td>\n",
       "      <td>1</td>\n",
       "      <td>1</td>\n",
       "      <td>81688</td>\n",
       "      <td>1</td>\n",
       "      <td>Exxon Shipping Co. v. Baker</td>\n",
       "    </tr>\n",
       "    <tr>\n",
       "      <th>527</th>\n",
       "      <td>2008</td>\n",
       "      <td>June 26, 2008</td>\n",
       "      <td>https://supreme.justia.com/cases/federal/us/55...</td>\n",
       "      <td>3</td>\n",
       "      <td>1</td>\n",
       "      <td>1</td>\n",
       "      <td>1</td>\n",
       "      <td>72060</td>\n",
       "      <td>1</td>\n",
       "      <td>Morgan Stanley Capital Group Inc. v. Public Ut...</td>\n",
       "    </tr>\n",
       "    <tr>\n",
       "      <th>570</th>\n",
       "      <td>2008</td>\n",
       "      <td>June 26, 2008</td>\n",
       "      <td>https://supreme.justia.com/cases/federal/us/55...</td>\n",
       "      <td>3</td>\n",
       "      <td>0</td>\n",
       "      <td>2</td>\n",
       "      <td>1</td>\n",
       "      <td>258289</td>\n",
       "      <td>1</td>\n",
       "      <td>District of Columbia v. Heller</td>\n",
       "    </tr>\n",
       "    <tr>\n",
       "      <th>724</th>\n",
       "      <td>2008</td>\n",
       "      <td>June 26, 2008</td>\n",
       "      <td>https://supreme.justia.com/cases/federal/us/55...</td>\n",
       "      <td>3</td>\n",
       "      <td>2</td>\n",
       "      <td>0</td>\n",
       "      <td>1</td>\n",
       "      <td>57997</td>\n",
       "      <td>0</td>\n",
       "      <td>Davis v. Federal Election Comm’n</td>\n",
       "    </tr>\n",
       "  </tbody>\n",
       "</table>\n",
       "<p>22115 rows × 10 columns</p>\n",
       "</div>"
      ],
      "text/plain": [
       "                  year          full_date  \\\n",
       "vol_num case_num                            \n",
       "3       1         1794   February 7, 1794   \n",
       "        6         1794  February 18, 1794   \n",
       "        17        1795  February 20, 1795   \n",
       "        121       1795        AUGUST 1795   \n",
       "        171       1796      March 8, 1796   \n",
       "...                ...                ...   \n",
       "554     407       2008      June 25, 2008   \n",
       "        471       2008      June 26, 2008   \n",
       "        527       2008      June 26, 2008   \n",
       "        570       2008      June 26, 2008   \n",
       "        724       2008      June 26, 2008   \n",
       "\n",
       "                                                         justia_url  \\\n",
       "vol_num case_num                                                      \n",
       "3       1          https://supreme.justia.com/cases/federal/us/3/1/   \n",
       "        6          https://supreme.justia.com/cases/federal/us/3/6/   \n",
       "        17        https://supreme.justia.com/cases/federal/us/3/17/   \n",
       "        121       https://supreme.justia.com/cases/federal/us/3/...   \n",
       "        171       https://supreme.justia.com/cases/federal/us/3/...   \n",
       "...                                                             ...   \n",
       "554     407       https://supreme.justia.com/cases/federal/us/55...   \n",
       "        471       https://supreme.justia.com/cases/federal/us/55...   \n",
       "        527       https://supreme.justia.com/cases/federal/us/55...   \n",
       "        570       https://supreme.justia.com/cases/federal/us/55...   \n",
       "        724       https://supreme.justia.com/cases/federal/us/55...   \n",
       "\n",
       "                  opinion_count  concur  dissent  opinion  doc_len_sum  \\\n",
       "vol_num case_num                                                         \n",
       "3       1                     1       0        0        1         5712   \n",
       "        6                     1       0        0        1         2028   \n",
       "        17                    1       0        0        1         2035   \n",
       "        121                   1       0        0        1         8452   \n",
       "        171                   5       3        1        1        30900   \n",
       "...                         ...     ...      ...      ...          ...   \n",
       "554     407                   2       0        1        1       110777   \n",
       "        471                   5       3        1        1        81688   \n",
       "        527                   3       1        1        1        72060   \n",
       "        570                   3       0        2        1       258289   \n",
       "        724                   3       2        0        1        57997   \n",
       "\n",
       "                  has_dissent  \\\n",
       "vol_num case_num                \n",
       "3       1                   0   \n",
       "        6                   0   \n",
       "        17                  0   \n",
       "        121                 0   \n",
       "        171                 1   \n",
       "...                       ...   \n",
       "554     407                 1   \n",
       "        471                 1   \n",
       "        527                 1   \n",
       "        570                 1   \n",
       "        724                 0   \n",
       "\n",
       "                                                         case_title  \n",
       "vol_num case_num                                                     \n",
       "3       1                    Georgia v. Brailsford, Powell & Hopton  \n",
       "        6                                       Glass v. The Betsey  \n",
       "        17                                United States v. Hamilton  \n",
       "        121                                 United States v. Peters  \n",
       "        171                                 Hylton v. United States  \n",
       "...                                                             ...  \n",
       "554     407                                    Kennedy v. Louisiana  \n",
       "        471                             Exxon Shipping Co. v. Baker  \n",
       "        527       Morgan Stanley Capital Group Inc. v. Public Ut...  \n",
       "        570                          District of Columbia v. Heller  \n",
       "        724                        Davis v. Federal Election Comm’n  \n",
       "\n",
       "[22115 rows x 10 columns]"
      ]
     },
     "execution_count": 19,
     "metadata": {},
     "output_type": "execute_result"
    }
   ],
   "source": [
    "db.CASE"
   ]
  },
  {
   "cell_type": "markdown",
   "metadata": {},
   "source": [
    "# Save CASE"
   ]
  },
  {
   "cell_type": "code",
   "execution_count": 20,
   "metadata": {},
   "outputs": [
    {
     "name": "stdout",
     "output_type": "stream",
     "text": [
      "Saving CASE\n"
     ]
    }
   ],
   "source": [
    "db.save_table('CASE')"
   ]
  },
  {
   "cell_type": "markdown",
   "metadata": {},
   "source": [
    "# Notes\n",
    "\n",
    "* There are many more &mdash; 9740! &mdash; cases in Justia than in our data set.\n",
    "* Many cases have no case numbers, only \"docket numbers.\" These are hyphen separated pairs of numbers. Some have letters mixed with numbers."
   ]
  },
  {
   "cell_type": "code",
   "execution_count": 21,
   "metadata": {},
   "outputs": [
    {
     "data": {
      "text/plain": [
       "(22115, 31855, 31257)"
      ]
     },
     "execution_count": 21,
     "metadata": {},
     "output_type": "execute_result"
    }
   ],
   "source": [
    "len(db.CASE), len(df), len(df2)"
   ]
  },
  {
   "cell_type": "code",
   "execution_count": 22,
   "metadata": {},
   "outputs": [
    {
     "data": {
      "text/plain": [
       "9740"
      ]
     },
     "execution_count": 22,
     "metadata": {},
     "output_type": "execute_result"
    }
   ],
   "source": [
    "len(df) - len(db.CASE)"
   ]
  },
  {
   "cell_type": "code",
   "execution_count": null,
   "metadata": {},
   "outputs": [],
   "source": []
  }
 ],
 "metadata": {
  "kernelspec": {
   "display_name": "Python 3",
   "language": "python",
   "name": "python3"
  },
  "language_info": {
   "codemirror_mode": {
    "name": "ipython",
    "version": 3
   },
   "file_extension": ".py",
   "mimetype": "text/x-python",
   "name": "python",
   "nbconvert_exporter": "python",
   "pygments_lexer": "ipython3",
   "version": "3.8.10"
  },
  "toc-autonumbering": true,
  "widgets": {
   "application/vnd.jupyter.widget-state+json": {
    "state": {},
    "version_major": 2,
    "version_minor": 0
   }
  }
 },
 "nbformat": 4,
 "nbformat_minor": 4
}
